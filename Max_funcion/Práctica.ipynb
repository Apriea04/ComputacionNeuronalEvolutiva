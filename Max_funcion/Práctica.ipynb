{
 "cells": [
  {
   "cell_type": "markdown",
   "metadata": {},
   "source": [
    "# Máximo de una funcion"
   ]
  },
  {
   "cell_type": "code",
   "execution_count": 18,
   "metadata": {},
   "outputs": [],
   "source": [
    "from math import sin, pi\n",
    "from typing import Callable"
   ]
  },
  {
   "cell_type": "markdown",
   "metadata": {},
   "source": [
    "Creamos una función que nos devuelve el valor de la función en un punto dado."
   ]
  },
  {
   "cell_type": "code",
   "execution_count": 19,
   "metadata": {},
   "outputs": [],
   "source": [
    "def f(x: int) -> float:\n",
    "    \"\"\"La función a ser maximizada\"\"\"\n",
    "    return x * sin(10*pi*x) + 1"
   ]
  },
  {
   "cell_type": "markdown",
   "metadata": {},
   "source": [
    "Para trabajar con cadenas de longitud 22 binarias, preferiremos esta vez usar listas en lugar de numpy.\n",
    "Creamos una funcion que convierte de listas de 22 bits a su representación entera:"
   ]
  },
  {
   "cell_type": "code",
   "execution_count": 20,
   "metadata": {},
   "outputs": [],
   "source": [
    "def decimal_de(cadena: list) -> float:\n",
    "    \"\"\"Da la representación decimal del gen\"\"\"\n",
    "    num = 0\n",
    "    for i in range(len(cadena) - 1, -1, -1):\n",
    "        num += cadena[len(cadena) - 1 - i] * 2**i\n",
    "    num = -1 + (3 / (2**22 - 1)) * num\n",
    "    return num\n"
   ]
  },
  {
   "cell_type": "code",
   "execution_count": 21,
   "metadata": {},
   "outputs": [],
   "source": [
    "# Prueba de funcionamiento:\n",
    "import random\n",
    "import timeit\n",
    "cadena = [0,1,1,0,1,0,1,0,1,0,1,0,1,0,0,0,0,1,1,0,1,0]\n",
    "#generar 50000 cadenas de 22 bits\n",
    "\n",
    "# print(timeit.timeit(lambda: f(decimal_de(cadena)), number=10000000))"
   ]
  },
  {
   "cell_type": "markdown",
   "metadata": {},
   "source": [
    "## Población inicial\n",
    "Para crear una población escogemos que tenga 50 individuos, y para cada uno de ellos generamos una lista de 22 bits aleatorios."
   ]
  },
  {
   "cell_type": "code",
   "execution_count": 22,
   "metadata": {},
   "outputs": [],
   "source": [
    "INDIVIDUOS = 50"
   ]
  },
  {
   "cell_type": "code",
   "execution_count": 23,
   "metadata": {},
   "outputs": [],
   "source": [
    "def crear_poblacion(tamano: int) -> list:\n",
    "    \"\"\"Crea una población de tamaño individuos para el problema de la maximización de la función aptitud.\"\"\"\n",
    "    poblacion = []\n",
    "    for i in range(tamano):\n",
    "        cadena = [random.randint(0, 1) for _ in range(22)]\n",
    "        poblacion.append(cadena)\n",
    "    return poblacion"
   ]
  },
  {
   "cell_type": "code",
   "execution_count": 24,
   "metadata": {},
   "outputs": [],
   "source": [
    "población = crear_poblacion(INDIVIDUOS)"
   ]
  },
  {
   "cell_type": "markdown",
   "metadata": {},
   "source": [
    "## Función de evaluación\n",
    "La aptitud será la función que queremos maximizar:"
   ]
  },
  {
   "cell_type": "code",
   "execution_count": 25,
   "metadata": {},
   "outputs": [],
   "source": [
    "def aptitud_maximizar(individuo: list) -> float:\n",
    "    \"\"\"Aptitud de un individuo\"\"\"\n",
    "    return f(decimal_de(individuo))"
   ]
  },
  {
   "cell_type": "markdown",
   "metadata": {},
   "source": [
    "## Operadores genéticos"
   ]
  },
  {
   "cell_type": "markdown",
   "metadata": {},
   "source": [
    "### Selección\n",
    "Para seleccionar los padres usamos el método de la ruleta con pesos."
   ]
  },
  {
   "cell_type": "code",
   "execution_count": 26,
   "metadata": {},
   "outputs": [],
   "source": [
    "def seleccionar_ruleta(poblacion: list, n: int, fun_aptitud: Callable = aptitud_maximizar) -> list:\n",
    "    \"\"\"Selecciona n individuos de la población usando el método de la ruleta.\n",
    "    :param poblacion: matriz de individuos\n",
    "    :param n: número de individuos a seleccionar\n",
    "    :param fun_aptitud: función para calcular la aptitud de un individuo\n",
    "    :return: matriz de individuos seleccionados\"\"\"\n",
    "\n",
    "    aptitudes = [fun_aptitud(individuo) for individuo in poblacion]\n",
    "    poblacion_seleccionada = []\n",
    "    aptitudes_acumuladas = [sum(aptitudes[: i + 1]) for i in range(len(aptitudes))]\n",
    "    aptitud_total = aptitudes_acumuladas[-1]\n",
    "\n",
    "    # Para cada progenitor a seleccionar\n",
    "    for _ in range(n):\n",
    "        valor = random.randint(0, aptitud_total)\n",
    "\n",
    "        seleccionado = 0\n",
    "\n",
    "        while not aptitudes_acumuladas[seleccionado] >= valor:\n",
    "            seleccionado += 1\n",
    "        poblacion_seleccionada.append(poblacion[seleccionado])\n",
    "    return poblacion_seleccionada"
   ]
  },
  {
   "cell_type": "markdown",
   "metadata": {},
   "source": [
    "### Crossover"
   ]
  },
  {
   "cell_type": "code",
   "execution_count": 27,
   "metadata": {},
   "outputs": [],
   "source": [
    "def crossover(\n",
    "    progenitores: list,\n",
    "    probabilidad: float = 1,\n",
    ") -> list:\n",
    "    \"\"\"Produce 2 nuevos individuos a partir de crossover si la probabilidad lo permite. Si no se produce, se retornan los progenitores.\n",
    "    :param progenitores: matriz de progenitores\n",
    "    :return: matriz de individuos con los nuevos individuos\"\"\"\n",
    "\n",
    "    if random.uniform(0, 1) <= probabilidad:\n",
    "        # Me quedo con dos progenitores al azar\n",
    "        progenitores = random.sample(list(progenitores), 2)\n",
    "        # Elijo un punto de corte\n",
    "        punto_corte = random.randint(1, len(progenitores[0]) - 1)\n",
    "        # Creo a los hijos\n",
    "        hijo1 = []\n",
    "        hijo1.append(progenitores[0][:punto_corte])\n",
    "        hijo1.append(progenitores[1][punto_corte:])\n",
    "        hijo2 = []\n",
    "        hijo2.append(progenitores[1][:punto_corte])\n",
    "        hijo2.append(progenitores[0][punto_corte:])\n",
    "        # Los devuelvo como ndarray\n",
    "        return [hijo1, hijo2]\n",
    "    else:\n",
    "        return progenitores\n"
   ]
  },
  {
   "cell_type": "markdown",
   "metadata": {},
   "source": [
    "### Mutación"
   ]
  },
  {
   "cell_type": "code",
   "execution_count": 28,
   "metadata": {},
   "outputs": [],
   "source": [
    "def mutacion(individuo: list, probabilidad: float, max_genes_a_mutar: int = 1) -> None:\n",
    "    \"\"\"Realiza la mutación de un individuo con una probabilidad dada.\n",
    "    :param individuo: lista que contiene los genes del individuo\n",
    "    :param probabilidad: probabilidad de mutación\"\"\"\n",
    "    if random.uniform() <= probabilidad:\n",
    "        num_genes_mutar = random.randint(0, max_genes_a_mutar)\n",
    "        indices_a_mutar = random.sample(range(len(individuo)), num_genes_mutar)\n",
    "        for i in indices_a_mutar:\n",
    "            individuo[i] = random.choice([0, 1])\n",
    "    "
   ]
  },
  {
   "cell_type": "markdown",
   "metadata": {},
   "source": [
    "### Elitismo"
   ]
  },
  {
   "cell_type": "code",
   "execution_count": 29,
   "metadata": {},
   "outputs": [],
   "source": [
    "def seleccion_elitista(poblacion: list, n: int, fun_aptitud: Callable = aptitud_maximizar) -> list:\n",
    "    \"\"\"Selecciona a los n individuos más aptos de la población.\n",
    "    :param poblacion: individuos de entre los que seleccionar\n",
    "    :param n: número de individuos a seleccionar\n",
    "    :param fun_aptitud: función para calcular la aptitud de un individuo\n",
    "    :return: individuos seleccionados\"\"\"\n",
    "\n",
    "    aptitudes = [fun_aptitud(individuo) for individuo in poblacion]\n",
    "    return sorted(poblacion, key=aptitudes, reverse=True)[:n-1]\n"
   ]
  },
  {
   "cell_type": "markdown",
   "metadata": {},
   "source": [
    "## Prueba de ejecución"
   ]
  },
  {
   "cell_type": "code",
   "execution_count": 30,
   "metadata": {},
   "outputs": [
    {
     "ename": "ValueError",
     "evalue": "non-integer stop for randrange()",
     "output_type": "error",
     "traceback": [
      "\u001b[1;31m---------------------------------------------------------------------------\u001b[0m",
      "\u001b[1;31mTypeError\u001b[0m                                 Traceback (most recent call last)",
      "File \u001b[1;32mC:\\Program Files\\WindowsApps\\PythonSoftwareFoundation.Python.3.11_3.11.2288.0_x64__qbz5n2kfra8p0\\Lib\\random.py:317\u001b[0m, in \u001b[0;36mRandom.randrange\u001b[1;34m(self, start, stop, step)\u001b[0m\n\u001b[0;32m    316\u001b[0m \u001b[38;5;28;01mtry\u001b[39;00m:\n\u001b[1;32m--> 317\u001b[0m     istop \u001b[38;5;241m=\u001b[39m _index(stop)\n\u001b[0;32m    318\u001b[0m \u001b[38;5;28;01mexcept\u001b[39;00m \u001b[38;5;167;01mTypeError\u001b[39;00m:\n",
      "\u001b[1;31mTypeError\u001b[0m: 'float' object cannot be interpreted as an integer",
      "\nDuring handling of the above exception, another exception occurred:\n",
      "\u001b[1;31mValueError\u001b[0m                                Traceback (most recent call last)",
      "Cell \u001b[1;32mIn[30], line 15\u001b[0m\n\u001b[0;32m     13\u001b[0m aptitudes_medias\u001b[38;5;241m.\u001b[39mappend(\u001b[38;5;28msum\u001b[39m([aptitud_maximizar(individuo) \u001b[38;5;28;01mfor\u001b[39;00m individuo \u001b[38;5;129;01min\u001b[39;00m poblacion]) \u001b[38;5;241m/\u001b[39m INDIVIDUOS)\n\u001b[0;32m     14\u001b[0m mejores_aptitudes\u001b[38;5;241m.\u001b[39mappend(\u001b[38;5;28mmax\u001b[39m([aptitud_maximizar(individuo) \u001b[38;5;28;01mfor\u001b[39;00m individuo \u001b[38;5;129;01min\u001b[39;00m poblacion]))\n\u001b[1;32m---> 15\u001b[0m seleccionados \u001b[38;5;241m=\u001b[39m \u001b[43mseleccionar_ruleta\u001b[49m\u001b[43m(\u001b[49m\u001b[43mpoblacion\u001b[49m\u001b[43m,\u001b[49m\u001b[43m \u001b[49m\u001b[43mINDIVIDUOS\u001b[49m\u001b[43m)\u001b[49m\n\u001b[0;32m     16\u001b[0m nuevos \u001b[38;5;241m=\u001b[39m []\n\u001b[0;32m     17\u001b[0m \u001b[38;5;28;01mfor\u001b[39;00m i \u001b[38;5;129;01min\u001b[39;00m \u001b[38;5;28mrange\u001b[39m(\u001b[38;5;241m0\u001b[39m, INDIVIDUOS, \u001b[38;5;241m2\u001b[39m):\n",
      "Cell \u001b[1;32mIn[26], line 15\u001b[0m, in \u001b[0;36mseleccionar_ruleta\u001b[1;34m(poblacion, n, fun_aptitud)\u001b[0m\n\u001b[0;32m     13\u001b[0m \u001b[38;5;66;03m# Para cada progenitor a seleccionar\u001b[39;00m\n\u001b[0;32m     14\u001b[0m \u001b[38;5;28;01mfor\u001b[39;00m _ \u001b[38;5;129;01min\u001b[39;00m \u001b[38;5;28mrange\u001b[39m(n):\n\u001b[1;32m---> 15\u001b[0m     valor \u001b[38;5;241m=\u001b[39m \u001b[43mrandom\u001b[49m\u001b[38;5;241;43m.\u001b[39;49m\u001b[43mrandint\u001b[49m\u001b[43m(\u001b[49m\u001b[38;5;241;43m0\u001b[39;49m\u001b[43m,\u001b[49m\u001b[43m \u001b[49m\u001b[43maptitud_total\u001b[49m\u001b[43m)\u001b[49m\n\u001b[0;32m     17\u001b[0m     seleccionado \u001b[38;5;241m=\u001b[39m \u001b[38;5;241m0\u001b[39m\n\u001b[0;32m     19\u001b[0m     \u001b[38;5;28;01mwhile\u001b[39;00m \u001b[38;5;129;01mnot\u001b[39;00m aptitudes_acumuladas[seleccionado] \u001b[38;5;241m>\u001b[39m\u001b[38;5;241m=\u001b[39m valor:\n",
      "File \u001b[1;32mC:\\Program Files\\WindowsApps\\PythonSoftwareFoundation.Python.3.11_3.11.2288.0_x64__qbz5n2kfra8p0\\Lib\\random.py:362\u001b[0m, in \u001b[0;36mRandom.randint\u001b[1;34m(self, a, b)\u001b[0m\n\u001b[0;32m    358\u001b[0m \u001b[38;5;28;01mdef\u001b[39;00m \u001b[38;5;21mrandint\u001b[39m(\u001b[38;5;28mself\u001b[39m, a, b):\n\u001b[0;32m    359\u001b[0m \u001b[38;5;250m    \u001b[39m\u001b[38;5;124;03m\"\"\"Return random integer in range [a, b], including both end points.\u001b[39;00m\n\u001b[0;32m    360\u001b[0m \u001b[38;5;124;03m    \"\"\"\u001b[39;00m\n\u001b[1;32m--> 362\u001b[0m     \u001b[38;5;28;01mreturn\u001b[39;00m \u001b[38;5;28;43mself\u001b[39;49m\u001b[38;5;241;43m.\u001b[39;49m\u001b[43mrandrange\u001b[49m\u001b[43m(\u001b[49m\u001b[43ma\u001b[49m\u001b[43m,\u001b[49m\u001b[43m \u001b[49m\u001b[43mb\u001b[49m\u001b[38;5;241;43m+\u001b[39;49m\u001b[38;5;241;43m1\u001b[39;49m\u001b[43m)\u001b[49m\n",
      "File \u001b[1;32mC:\\Program Files\\WindowsApps\\PythonSoftwareFoundation.Python.3.11_3.11.2288.0_x64__qbz5n2kfra8p0\\Lib\\random.py:323\u001b[0m, in \u001b[0;36mRandom.randrange\u001b[1;34m(self, start, stop, step)\u001b[0m\n\u001b[0;32m    320\u001b[0m     \u001b[38;5;28;01mif\u001b[39;00m istop \u001b[38;5;241m!=\u001b[39m stop:\n\u001b[0;32m    321\u001b[0m         _warn(\u001b[38;5;124m'\u001b[39m\u001b[38;5;124mrandrange() will raise TypeError in the future\u001b[39m\u001b[38;5;124m'\u001b[39m,\n\u001b[0;32m    322\u001b[0m               \u001b[38;5;167;01mDeprecationWarning\u001b[39;00m, \u001b[38;5;241m2\u001b[39m)\n\u001b[1;32m--> 323\u001b[0m         \u001b[38;5;28;01mraise\u001b[39;00m \u001b[38;5;167;01mValueError\u001b[39;00m(\u001b[38;5;124m\"\u001b[39m\u001b[38;5;124mnon-integer stop for randrange()\u001b[39m\u001b[38;5;124m\"\u001b[39m)\n\u001b[0;32m    324\u001b[0m     _warn(\u001b[38;5;124m'\u001b[39m\u001b[38;5;124mnon-integer arguments to randrange() have been deprecated \u001b[39m\u001b[38;5;124m'\u001b[39m\n\u001b[0;32m    325\u001b[0m           \u001b[38;5;124m'\u001b[39m\u001b[38;5;124msince Python 3.10 and will be removed in a subsequent \u001b[39m\u001b[38;5;124m'\u001b[39m\n\u001b[0;32m    326\u001b[0m           \u001b[38;5;124m'\u001b[39m\u001b[38;5;124mversion\u001b[39m\u001b[38;5;124m'\u001b[39m,\n\u001b[0;32m    327\u001b[0m           \u001b[38;5;167;01mDeprecationWarning\u001b[39;00m, \u001b[38;5;241m2\u001b[39m)\n\u001b[0;32m    328\u001b[0m width \u001b[38;5;241m=\u001b[39m istop \u001b[38;5;241m-\u001b[39m istart\n",
      "\u001b[1;31mValueError\u001b[0m: non-integer stop for randrange()"
     ]
    }
   ],
   "source": [
    "# TODO: Implementar el algoritmo genético completo\n",
    "INDIVIDUOS = 50\n",
    "PROB_CROSSOVER = 0.25\n",
    "PROB_MUTACION = 0.01\n",
    "GENERACIONES = 100\n",
    "\n",
    "poblacion = crear_poblacion(INDIVIDUOS)\n",
    "\n",
    "mejores_aptitudes = []\n",
    "aptitudes_medias = []\n",
    "\n",
    "for _ in range(GENERACIONES):\n",
    "    aptitudes_medias.append(sum([aptitud_maximizar(individuo) for individuo in poblacion]) / INDIVIDUOS)\n",
    "    mejores_aptitudes.append(max([aptitud_maximizar(individuo) for individuo in poblacion]))\n",
    "    seleccionados = seleccionar_ruleta(poblacion, INDIVIDUOS)\n",
    "    nuevos = []\n",
    "    for i in range(0, INDIVIDUOS, 2):\n",
    "        hijos = crossover(seleccionados[i:i+2], PROB_CROSSOVER)\n",
    "        mutacion(hijos[0], PROB_MUTACION)\n",
    "        mutacion(hijos[1], PROB_MUTACION)\n",
    "        nuevos.extend(hijos)\n",
    "    poblacion = seleccion_elitista(poblacion, INDIVIDUOS) + nuevos\n",
    "    \n",
    "# Grafico con los resultados\n",
    "import matplotlib.pyplot as plt\n",
    "plt.plot(mejores_aptitudes, label=\"Mejor aptitud\")\n",
    "plt.plot(aptitudes_medias, label=\"Aptitud media\")\n",
    "plt.xlabel(\"Generaciones\")\n",
    "plt.ylabel(\"Aptitud\")\n",
    "plt.legend()\n",
    "plt.show()\n"
   ]
  }
 ],
 "metadata": {
  "kernelspec": {
   "display_name": "Python 3",
   "language": "python",
   "name": "python3"
  },
  "language_info": {
   "codemirror_mode": {
    "name": "ipython",
    "version": 3
   },
   "file_extension": ".py",
   "mimetype": "text/x-python",
   "name": "python",
   "nbconvert_exporter": "python",
   "pygments_lexer": "ipython3",
   "version": "3.11.8"
  }
 },
 "nbformat": 4,
 "nbformat_minor": 2
}
