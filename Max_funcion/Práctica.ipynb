{
 "cells": [
  {
   "cell_type": "markdown",
   "metadata": {},
   "source": [
    "# Máximo de una funcion"
   ]
  },
  {
   "cell_type": "code",
   "execution_count": 5,
   "metadata": {},
   "outputs": [],
   "source": [
    "from math import sin, pi\n",
    "from typing import Callable"
   ]
  },
  {
   "cell_type": "markdown",
   "metadata": {},
   "source": [
    "Creamos una función que nos devuelve el valor de la función en un punto dado."
   ]
  },
  {
   "cell_type": "code",
   "execution_count": 6,
   "metadata": {},
   "outputs": [],
   "source": [
    "def f(x: int) -> float:\n",
    "    \"\"\"La función a ser maximizada\"\"\"\n",
    "    return x * sin(10*pi*x) + 1"
   ]
  },
  {
   "cell_type": "markdown",
   "metadata": {},
   "source": [
    "Para trabajar con cadenas de longitud 22 binarias, preferiremos esta vez usar listas en lugar de numpy.\n",
    "Creamos una funcion que convierte de listas de 22 bits a su representación entera:"
   ]
  },
  {
   "cell_type": "code",
   "execution_count": 7,
   "metadata": {},
   "outputs": [],
   "source": [
    "def decimal_de(cadena: list) -> float:\n",
    "    \"\"\"Da la representación decimal del gen\"\"\"\n",
    "    num = 0\n",
    "    for i in range(len(cadena) - 1, -1, -1):\n",
    "        num += cadena[len(cadena) - 1 - i] * 2**i\n",
    "    num = -1 + (3 / (2**22 - 1)) * num\n",
    "    return num\n"
   ]
  },
  {
   "cell_type": "code",
   "execution_count": 8,
   "metadata": {},
   "outputs": [
    {
     "name": "stdout",
     "output_type": "stream",
     "text": [
      "20.498522800000046\n"
     ]
    }
   ],
   "source": [
    "# Prueba de funcionamiento:\n",
    "import random\n",
    "import timeit\n",
    "cadena = [0,1,1,0,1,0,1,0,1,0,1,0,1,0,0,0,0,1,1,0,1,0]\n",
    "#generar 50000 cadenas de 22 bits\n",
    "\n",
    "print(timeit.timeit(lambda: f(decimal_de(cadena)), number=10000000))"
   ]
  },
  {
   "cell_type": "markdown",
   "metadata": {},
   "source": [
    "## Población inicial\n",
    "Para crear una población escogemos que tenga 50 individuos, y para cada uno de ellos generamos una lista de 22 bits aleatorios."
   ]
  },
  {
   "cell_type": "code",
   "execution_count": 9,
   "metadata": {},
   "outputs": [],
   "source": [
    "INDIVIDUOS = 50"
   ]
  },
  {
   "cell_type": "code",
   "execution_count": 10,
   "metadata": {},
   "outputs": [],
   "source": [
    "def crear_poblacion(tamano: int) -> list:\n",
    "    \"\"\"Crea una población de tamaño individuos para el problema de la maximización de la función aptitud.\"\"\"\n",
    "    poblacion = []\n",
    "    for i in range(tamano):\n",
    "        cadena = [random.randint(0, 1) for _ in range(22)]\n",
    "        poblacion.append(cadena)\n",
    "    return poblacion"
   ]
  },
  {
   "cell_type": "code",
   "execution_count": 11,
   "metadata": {},
   "outputs": [],
   "source": [
    "población = crear_poblacion(INDIVIDUOS)"
   ]
  },
  {
   "cell_type": "markdown",
   "metadata": {},
   "source": [
    "## Función de evaluación\n",
    "La aptitud será la función que queremos maximizar:"
   ]
  },
  {
   "cell_type": "code",
   "execution_count": 12,
   "metadata": {},
   "outputs": [],
   "source": [
    "def aptitud_maximizar(individuo: list) -> float:\n",
    "    \"\"\"Aptitud de un individuo\"\"\"\n",
    "    return f(decimal_de(individuo))"
   ]
  },
  {
   "cell_type": "markdown",
   "metadata": {},
   "source": [
    "## Operadores genéticos"
   ]
  },
  {
   "cell_type": "markdown",
   "metadata": {},
   "source": [
    "### Selección\n",
    "Para seleccionar los padres usamos el método de la ruleta con pesos."
   ]
  },
  {
   "cell_type": "code",
   "execution_count": 13,
   "metadata": {},
   "outputs": [],
   "source": [
    "def seleccionar_ruleta(poblacion: list, n: int, fun_aptitud: Callable = aptitud_maximizar) -> list:\n",
    "    \"\"\"Selecciona n individuos de la población usando el método de la ruleta.\n",
    "    :param poblacion: matriz de individuos\n",
    "    :param n: número de individuos a seleccionar\n",
    "    :param fun_aptitud: función para calcular la aptitud de un individuo\n",
    "    :return: matriz de individuos seleccionados\"\"\"\n",
    "\n",
    "    aptitudes = [fun_aptitud(individuo) for individuo in poblacion]\n",
    "    poblacion_seleccionada = []\n",
    "    aptitudes_acumuladas = [sum(aptitudes[: i + 1]) for i in range(len(aptitudes))]\n",
    "    aptitud_total = aptitudes_acumuladas[-1]\n",
    "\n",
    "    # Para cada progenitor a seleccionar\n",
    "    for _ in range(n):\n",
    "        valor = random.randint(0, aptitud_total)\n",
    "\n",
    "        seleccionado = 0\n",
    "\n",
    "        while not aptitudes_acumuladas[seleccionado] >= valor:\n",
    "            seleccionado += 1\n",
    "        poblacion_seleccionada.append(poblacion[seleccionado])\n",
    "    return poblacion_seleccionada"
   ]
  },
  {
   "cell_type": "markdown",
   "metadata": {},
   "source": [
    "### Crossover"
   ]
  },
  {
   "cell_type": "code",
   "execution_count": 14,
   "metadata": {},
   "outputs": [],
   "source": [
    "def crossover(\n",
    "    progenitores: list,\n",
    "    probabilidad: float = 1,\n",
    ") -> list:\n",
    "    \"\"\"Produce 2 nuevos individuos a partir de crossover si la probabilidad lo permite. Si no se produce, se retornan los progenitores.\n",
    "    :param progenitores: matriz de progenitores\n",
    "    :return: matriz de individuos con los nuevos individuos\"\"\"\n",
    "\n",
    "    if random.uniform(0, 1) <= probabilidad:\n",
    "        # Me quedo con dos progenitores al azar\n",
    "        progenitores = random.sample(list(progenitores), 2)\n",
    "        # Elijo un punto de corte\n",
    "        punto_corte = random.randint(1, len(progenitores[0]) - 1)\n",
    "        # Creo a los hijos\n",
    "        hijo1 = []\n",
    "        hijo1.append(progenitores[0][:punto_corte])\n",
    "        hijo1.append(progenitores[1][punto_corte:])\n",
    "        hijo2 = []\n",
    "        hijo2.append(progenitores[1][:punto_corte])\n",
    "        hijo2.append(progenitores[0][punto_corte:])\n",
    "        # Los devuelvo como ndarray\n",
    "        return [hijo1, hijo2]\n",
    "    else:\n",
    "        return progenitores\n"
   ]
  },
  {
   "cell_type": "markdown",
   "metadata": {},
   "source": [
    "### Mutación"
   ]
  },
  {
   "cell_type": "code",
   "execution_count": 15,
   "metadata": {},
   "outputs": [],
   "source": [
    "def mutacion(individuo: list, probabilidad: float, max_genes_a_mutar: int = 1) -> None:\n",
    "    \"\"\"Realiza la mutación de un individuo con una probabilidad dada.\n",
    "    :param individuo: lista que contiene los genes del individuo\n",
    "    :param probabilidad: probabilidad de mutación\"\"\"\n",
    "    if random.uniform() <= probabilidad:\n",
    "        num_genes_mutar = random.randint(0, max_genes_a_mutar)\n",
    "        indices_a_mutar = random.sample(range(len(individuo)), num_genes_mutar)\n",
    "        for i in indices_a_mutar:\n",
    "            individuo[i] = random.choice([0, 1])\n",
    "    "
   ]
  },
  {
   "cell_type": "markdown",
   "metadata": {},
   "source": [
    "### Elitismo"
   ]
  },
  {
   "cell_type": "code",
   "execution_count": 17,
   "metadata": {},
   "outputs": [],
   "source": [
    "def seleccion_elitista(poblacion: list, n: int, fun_aptitud: Callable = aptitud_maximizar) -> list:\n",
    "    \"\"\"Selecciona a los n individuos más aptos de la población.\n",
    "    :param poblacion: individuos de entre los que seleccionar\n",
    "    :param n: número de individuos a seleccionar\n",
    "    :param fun_aptitud: función para calcular la aptitud de un individuo\n",
    "    :return: individuos seleccionados\"\"\"\n",
    "\n",
    "    aptitudes = [fun_aptitud(individuo) for individuo in poblacion]\n",
    "    return sorted(poblacion, key=aptitudes, reverse=True)[:n-1]\n"
   ]
  },
  {
   "cell_type": "markdown",
   "metadata": {},
   "source": [
    "## Prueba de ejecución"
   ]
  },
  {
   "cell_type": "code",
   "execution_count": null,
   "metadata": {},
   "outputs": [],
   "source": [
    "# TODO: Implementar el algoritmo genético completo"
   ]
  }
 ],
 "metadata": {
  "kernelspec": {
   "display_name": "Python 3",
   "language": "python",
   "name": "python3"
  },
  "language_info": {
   "codemirror_mode": {
    "name": "ipython",
    "version": 3
   },
   "file_extension": ".py",
   "mimetype": "text/x-python",
   "name": "python",
   "nbconvert_exporter": "python",
   "pygments_lexer": "ipython3",
   "version": "3.11.8"
  }
 },
 "nbformat": 4,
 "nbformat_minor": 2
}
