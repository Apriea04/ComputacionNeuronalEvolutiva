{
 "cells": [
  {
   "cell_type": "markdown",
   "metadata": {},
   "source": [
    "# Máximo de una funcion"
   ]
  },
  {
   "cell_type": "code",
   "execution_count": 5,
   "metadata": {},
   "outputs": [],
   "source": [
    "from math import sin, pi"
   ]
  },
  {
   "cell_type": "markdown",
   "metadata": {},
   "source": [
    "Creamos una función que nos devuelve el valor de la función en un punto dado."
   ]
  },
  {
   "cell_type": "code",
   "execution_count": 6,
   "metadata": {},
   "outputs": [],
   "source": [
    "def f(x: int) -> float:\n",
    "    \"\"\"La función a ser maximizada\"\"\"\n",
    "    return x * sin(10*pi*x) + 1"
   ]
  },
  {
   "cell_type": "markdown",
   "metadata": {},
   "source": [
    "Para trabajar con cadenas de longitud 22 binarias, preferiremos esta vez usar listas en lugar de numpy.\n",
    "Creamos una funcion que convierte de listas de 22 bits a su representación entera:"
   ]
  },
  {
   "cell_type": "code",
   "execution_count": 19,
   "metadata": {},
   "outputs": [],
   "source": [
    "def decimal_de(cadena: list) -> float:\n",
    "    \"\"\"Da la representación decimal del gen\"\"\"\n",
    "    num = 0\n",
    "    for i in range(len(cadena) - 1, -1, -1):\n",
    "        num += cadena[len(cadena) - 1 - i] * 2**i\n",
    "    num = -1 + (3 / (2**22 - 1)) * num\n",
    "    return num\n"
   ]
  },
  {
   "cell_type": "code",
   "execution_count": 20,
   "metadata": {},
   "outputs": [
    {
     "name": "stdout",
     "output_type": "stream",
     "text": [
      "29.170534799999587\n"
     ]
    }
   ],
   "source": [
    "# Prueba de funcionamiento:\n",
    "import random\n",
    "import timeit\n",
    "cadena = [0,1,1,0,1,0,1,0,1,0,1,0,1,0,0,0,0,1,1,0,1,0]\n",
    "#generar 50000 cadenas de 22 bits\n",
    "\n",
    "print(timeit.timeit(lambda: f(decimal_de(cadena)), number=10000000))"
   ]
  }
 ],
 "metadata": {
  "kernelspec": {
   "display_name": "Python 3",
   "language": "python",
   "name": "python3"
  },
  "language_info": {
   "codemirror_mode": {
    "name": "ipython",
    "version": 3
   },
   "file_extension": ".py",
   "mimetype": "text/x-python",
   "name": "python",
   "nbconvert_exporter": "python",
   "pygments_lexer": "ipython3",
   "version": "3.11.8"
  }
 },
 "nbformat": 4,
 "nbformat_minor": 2
}
