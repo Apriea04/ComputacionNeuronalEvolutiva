{
 "cells": [
  {
   "cell_type": "markdown",
   "metadata": {},
   "source": [
    "# Máximo de una funcion"
   ]
  },
  {
   "cell_type": "code",
   "execution_count": 1,
   "metadata": {},
   "outputs": [],
   "source": [
    "from math import sin, pi\n",
    "from typing import Callable"
   ]
  },
  {
   "cell_type": "markdown",
   "metadata": {},
   "source": [
    "Creamos una función que nos devuelve el valor de la función en un punto dado."
   ]
  },
  {
   "cell_type": "code",
   "execution_count": 2,
   "metadata": {},
   "outputs": [],
   "source": [
    "def f(x: int) -> float:\n",
    "    \"\"\"La función a ser maximizada\"\"\"\n",
    "    return x * sin(10*pi*x) + 1"
   ]
  },
  {
   "cell_type": "markdown",
   "metadata": {},
   "source": [
    "Para trabajar con cadenas de longitud 22 binarias, preferiremos esta vez usar listas en lugar de numpy.\n",
    "Creamos una funcion que convierte de listas de 22 bits a su representación entera:"
   ]
  },
  {
   "cell_type": "code",
   "execution_count": 3,
   "metadata": {},
   "outputs": [],
   "source": [
    "def decimal_de(cadena: list) -> float:\n",
    "    \"\"\"Da la representación decimal del gen\"\"\"\n",
    "    num = 0\n",
    "    for i in range(len(cadena) - 1, -1, -1):\n",
    "        num += cadena[len(cadena) - 1 - i] * 2**i\n",
    "    num = -1 + (3 / (2**22 - 1)) * num\n",
    "    return num\n"
   ]
  },
  {
   "cell_type": "code",
   "execution_count": 4,
   "metadata": {},
   "outputs": [],
   "source": [
    "# Prueba de funcionamiento:\n",
    "import random\n",
    "import timeit\n",
    "cadena = [0,1,1,0,1,0,1,0,1,0,1,0,1,0,0,0,0,1,1,0,1,0]\n",
    "#generar 50000 cadenas de 22 bits\n",
    "\n",
    "# print(timeit.timeit(lambda: f(decimal_de(cadena)), number=10000000))"
   ]
  },
  {
   "cell_type": "markdown",
   "metadata": {},
   "source": [
    "## Población inicial\n",
    "Para crear una población escogemos que tenga 50 individuos, y para cada uno de ellos generamos una lista de 22 bits aleatorios."
   ]
  },
  {
   "cell_type": "code",
   "execution_count": 5,
   "metadata": {},
   "outputs": [],
   "source": [
    "INDIVIDUOS = 50"
   ]
  },
  {
   "cell_type": "code",
   "execution_count": 6,
   "metadata": {},
   "outputs": [],
   "source": [
    "def crear_poblacion(tamano: int) -> list:\n",
    "    \"\"\"Crea una población de tamaño individuos para el problema de la maximización de la función aptitud.\"\"\"\n",
    "    poblacion = []\n",
    "    for i in range(tamano):\n",
    "        cadena = [random.randint(0, 1) for _ in range(22)]\n",
    "        poblacion.append(cadena)\n",
    "    return poblacion"
   ]
  },
  {
   "cell_type": "code",
   "execution_count": 7,
   "metadata": {},
   "outputs": [],
   "source": [
    "poblacion = crear_poblacion(INDIVIDUOS)"
   ]
  },
  {
   "cell_type": "markdown",
   "metadata": {},
   "source": [
    "## Función de evaluación\n",
    "La aptitud será la función que queremos maximizar, pero hacemos una pequeña corrección para no trabajar con dos signos."
   ]
  },
  {
   "cell_type": "code",
   "execution_count": 8,
   "metadata": {},
   "outputs": [],
   "source": [
    "def aptitud_maximizar(individuo: list) -> float:\n",
    "    \"\"\"Aptitud de un individuo\"\"\"\n",
    "    funcion = f(decimal_de(individuo))\n",
    "    if funcion < 0:\n",
    "        return 0\n",
    "    else:\n",
    "        return funcion"
   ]
  },
  {
   "cell_type": "markdown",
   "metadata": {},
   "source": [
    "## Operadores genéticos"
   ]
  },
  {
   "cell_type": "markdown",
   "metadata": {},
   "source": [
    "### Selección\n",
    "Para seleccionar los padres usamos el método de la ruleta con pesos."
   ]
  },
  {
   "cell_type": "code",
   "execution_count": 9,
   "metadata": {},
   "outputs": [],
   "source": [
    "def seleccionar_ruleta(\n",
    "    poblacion: list, n: int, fun_aptitud: Callable = aptitud_maximizar\n",
    ") -> list:\n",
    "    \"\"\"Selecciona n individuos de la población usando el método de la ruleta.\n",
    "    :param poblacion: matriz de individuos\n",
    "    :param n: número de individuos a seleccionar\n",
    "    :param fun_aptitud: función para calcular la aptitud de un individuo\n",
    "    :return: matriz de individuos seleccionados\"\"\"\n",
    "\n",
    "    aptitudes = [fun_aptitud(individuo) for individuo in poblacion]\n",
    "    poblacion_seleccionada = []\n",
    "    aptitudes_acumuladas = [sum(aptitudes[: i + 1]) for i in range(len(aptitudes))]\n",
    "    aptitud_total = aptitudes_acumuladas[-1]\n",
    "\n",
    "    # Para cada progenitor a seleccionar\n",
    "    for _ in range(n):\n",
    "        # Seleccionamos un numero decimal aleatorio entre 0 y la suma total de aptitudes\n",
    "        valor = random.uniform(0, aptitud_total)\n",
    "\n",
    "        seleccionado = 0\n",
    "\n",
    "        while not aptitudes_acumuladas[seleccionado] >= valor:\n",
    "            seleccionado += 1\n",
    "        poblacion_seleccionada.append(poblacion[seleccionado])\n",
    "    return poblacion_seleccionada"
   ]
  },
  {
   "cell_type": "markdown",
   "metadata": {},
   "source": [
    "### Crossover"
   ]
  },
  {
   "cell_type": "code",
   "execution_count": 10,
   "metadata": {},
   "outputs": [],
   "source": [
    "def crossover(\n",
    "    progenitores: list,\n",
    "    probabilidad: float = 1,\n",
    ") -> list:\n",
    "    \"\"\"Produce 2 nuevos individuos a partir de crossover si la probabilidad lo permite. Si no se produce, se retornan los progenitores.\n",
    "    :param progenitores: matriz de progenitores\n",
    "    :return: matriz de individuos con los nuevos individuos\"\"\"\n",
    "\n",
    "    if random.uniform(0, 1) <= probabilidad:\n",
    "        # Me quedo con dos progenitores al azar\n",
    "        progenitores = random.sample(list(progenitores), 2)\n",
    "        # Elijo un punto de corte\n",
    "        punto_corte = random.randint(1, len(progenitores[0]) - 1)\n",
    "        # Creo a los hijos\n",
    "        hijo1 = []\n",
    "        hijo2 = []\n",
    "        hijo1 = progenitores[0][:punto_corte] + progenitores[1][punto_corte:]\n",
    "        hijo2 = progenitores[1][:punto_corte] + progenitores[0][punto_corte:]\n",
    "        # Los devuelvo como ndarray\n",
    "        return [hijo1, hijo2]\n",
    "    else:\n",
    "        return progenitores"
   ]
  },
  {
   "cell_type": "markdown",
   "metadata": {},
   "source": [
    "### Mutación"
   ]
  },
  {
   "cell_type": "code",
   "execution_count": 11,
   "metadata": {},
   "outputs": [],
   "source": [
    "def mutacion(individuo: list, probabilidad: float, max_genes_a_mutar: int = 1) -> None:\n",
    "    \"\"\"Realiza la mutación de un individuo con una probabilidad dada.\n",
    "    :param individuo: lista que contiene los genes del individuo\n",
    "    :param probabilidad: probabilidad de mutación\"\"\"\n",
    "    if random.uniform() <= probabilidad:\n",
    "        num_genes_mutar = random.randint(0, max_genes_a_mutar)\n",
    "        indices_a_mutar = random.sample(range(len(individuo)), num_genes_mutar)\n",
    "        for i in indices_a_mutar:\n",
    "            individuo[i] = random.choice([0, 1])\n",
    "    "
   ]
  },
  {
   "cell_type": "markdown",
   "metadata": {},
   "source": [
    "### Elitismo"
   ]
  },
  {
   "cell_type": "code",
   "execution_count": 12,
   "metadata": {},
   "outputs": [],
   "source": [
    "def seleccion_elitista(poblacion: list, n: int, fun_aptitud: Callable = aptitud_maximizar) -> list:\n",
    "    \"\"\"Selecciona a los n individuos más aptos de la población.\n",
    "    :param poblacion: individuos de entre los que seleccionar\n",
    "    :param n: número de individuos a seleccionar\n",
    "    :param fun_aptitud: función para calcular la aptitud de un individuo\n",
    "    :return: individuos seleccionados\"\"\"\n",
    "\n",
    "    aptitudes = [fun_aptitud(individuo) for individuo in poblacion]\n",
    "    return sorted(poblacion, key=aptitudes, reverse=True)[:n-1]\n"
   ]
  },
  {
   "cell_type": "markdown",
   "metadata": {},
   "source": [
    "## Prueba de ejecución"
   ]
  },
  {
   "cell_type": "code",
   "execution_count": 13,
   "metadata": {},
   "outputs": [
    {
     "name": "stdout",
     "output_type": "stream",
     "text": [
      "0\n"
     ]
    },
    {
     "ename": "TypeError",
     "evalue": "Random.uniform() missing 2 required positional arguments: 'a' and 'b'",
     "output_type": "error",
     "traceback": [
      "\u001b[1;31m---------------------------------------------------------------------------\u001b[0m",
      "\u001b[1;31mTypeError\u001b[0m                                 Traceback (most recent call last)",
      "Cell \u001b[1;32mIn[13], line 27\u001b[0m\n\u001b[0;32m     25\u001b[0m hijos \u001b[38;5;241m=\u001b[39m crossover(seleccionados, PROB_CROSSOVER)\n\u001b[0;32m     26\u001b[0m \u001b[38;5;28;01mfor\u001b[39;00m hijo \u001b[38;5;129;01min\u001b[39;00m hijos:\n\u001b[1;32m---> 27\u001b[0m     \u001b[43mmutacion\u001b[49m\u001b[43m(\u001b[49m\u001b[43mhijo\u001b[49m\u001b[43m,\u001b[49m\u001b[43m \u001b[49m\u001b[43mPROB_MUTACION\u001b[49m\u001b[43m)\u001b[49m\n\u001b[0;32m     28\u001b[0m     nueva_poblacion\u001b[38;5;241m.\u001b[39mappend(hijo)\n\u001b[0;32m     29\u001b[0m \u001b[38;5;28;01mfor\u001b[39;00m item \u001b[38;5;129;01min\u001b[39;00m nueva_poblacion:\n",
      "Cell \u001b[1;32mIn[11], line 5\u001b[0m, in \u001b[0;36mmutacion\u001b[1;34m(individuo, probabilidad, max_genes_a_mutar)\u001b[0m\n\u001b[0;32m      1\u001b[0m \u001b[38;5;28;01mdef\u001b[39;00m \u001b[38;5;21mmutacion\u001b[39m(individuo: \u001b[38;5;28mlist\u001b[39m, probabilidad: \u001b[38;5;28mfloat\u001b[39m, max_genes_a_mutar: \u001b[38;5;28mint\u001b[39m \u001b[38;5;241m=\u001b[39m \u001b[38;5;241m1\u001b[39m) \u001b[38;5;241m-\u001b[39m\u001b[38;5;241m>\u001b[39m \u001b[38;5;28;01mNone\u001b[39;00m:\n\u001b[0;32m      2\u001b[0m \u001b[38;5;250m    \u001b[39m\u001b[38;5;124;03m\"\"\"Realiza la mutación de un individuo con una probabilidad dada.\u001b[39;00m\n\u001b[0;32m      3\u001b[0m \u001b[38;5;124;03m    :param individuo: lista que contiene los genes del individuo\u001b[39;00m\n\u001b[0;32m      4\u001b[0m \u001b[38;5;124;03m    :param probabilidad: probabilidad de mutación\"\"\"\u001b[39;00m\n\u001b[1;32m----> 5\u001b[0m     \u001b[38;5;28;01mif\u001b[39;00m \u001b[43mrandom\u001b[49m\u001b[38;5;241;43m.\u001b[39;49m\u001b[43muniform\u001b[49m\u001b[43m(\u001b[49m\u001b[43m)\u001b[49m \u001b[38;5;241m<\u001b[39m\u001b[38;5;241m=\u001b[39m probabilidad:\n\u001b[0;32m      6\u001b[0m         num_genes_mutar \u001b[38;5;241m=\u001b[39m random\u001b[38;5;241m.\u001b[39mrandint(\u001b[38;5;241m0\u001b[39m, max_genes_a_mutar)\n\u001b[0;32m      7\u001b[0m         indices_a_mutar \u001b[38;5;241m=\u001b[39m random\u001b[38;5;241m.\u001b[39msample(\u001b[38;5;28mrange\u001b[39m(\u001b[38;5;28mlen\u001b[39m(individuo)), num_genes_mutar)\n",
      "\u001b[1;31mTypeError\u001b[0m: Random.uniform() missing 2 required positional arguments: 'a' and 'b'"
     ]
    }
   ],
   "source": [
    "INDIVIDUOS = 50\n",
    "PROB_CROSSOVER = 0.25\n",
    "PROB_MUTACION = 0.01\n",
    "GENERACIONES = 100\n",
    "\n",
    "mejores_aptitudes = []\n",
    "aptitudes_medias = []\n",
    "\n",
    "aptitudes_medias.append(\n",
    "    sum([aptitud_maximizar(individuo) for individuo in poblacion]) / INDIVIDUOS\n",
    ")\n",
    "mejores_aptitudes.append(max([aptitud_maximizar(individuo) for individuo in poblacion]))\n",
    "\n",
    "for _ in range(GENERACIONES):\n",
    "    print(_)\n",
    "    aptitudes_medias.append(\n",
    "        sum([aptitud_maximizar(individuo) for individuo in poblacion]) / INDIVIDUOS\n",
    "    )\n",
    "    mejores_aptitudes.append(\n",
    "        max([aptitud_maximizar(individuo) for individuo in poblacion])\n",
    "    )\n",
    "    nueva_poblacion = []\n",
    "    while len(nueva_poblacion) < INDIVIDUOS:\n",
    "        seleccionados = seleccionar_ruleta(poblacion, 2)\n",
    "        hijos = crossover(seleccionados, PROB_CROSSOVER)\n",
    "        for hijo in hijos:\n",
    "            mutacion(hijo, PROB_MUTACION)\n",
    "            nueva_poblacion.append(hijo)\n",
    "        for item in nueva_poblacion:\n",
    "            poblacion.append(item)\n",
    "    poblacion = seleccion_elitista(poblacion, INDIVIDUOS)\n",
    "\n",
    "# Grafico con los resultados\n",
    "import matplotlib.pyplot as plt\n",
    "\n",
    "plt.plot(mejores_aptitudes, label=\"Mejor aptitud\")\n",
    "plt.plot(aptitudes_medias, label=\"Aptitud media\")\n",
    "plt.xlabel(\"Generaciones\")\n",
    "plt.ylabel(\"Aptitud\")\n",
    "plt.legend()\n",
    "plt.show()"
   ]
  }
 ],
 "metadata": {
  "kernelspec": {
   "display_name": "Python 3",
   "language": "python",
   "name": "python3"
  },
  "language_info": {
   "codemirror_mode": {
    "name": "ipython",
    "version": 3
   },
   "file_extension": ".py",
   "mimetype": "text/x-python",
   "name": "python",
   "nbconvert_exporter": "python",
   "pygments_lexer": "ipython3",
   "version": "3.11.8"
  }
 },
 "nbformat": 4,
 "nbformat_minor": 2
}
