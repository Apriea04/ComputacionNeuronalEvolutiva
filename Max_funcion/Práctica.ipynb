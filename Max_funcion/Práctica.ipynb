{
 "cells": [
  {
   "cell_type": "markdown",
   "metadata": {},
   "source": [
    "# Máximo de una funcion"
   ]
  },
  {
   "cell_type": "code",
   "execution_count": 14,
   "metadata": {},
   "outputs": [],
   "source": [
    "from math import sin, pi\n",
    "from typing import Callable\n",
    "import random\n",
    "import matplotlib.pyplot as plt"
   ]
  },
  {
   "cell_type": "markdown",
   "metadata": {},
   "source": [
    "Creamos una función que nos devuelve el valor de la función en un punto dado."
   ]
  },
  {
   "cell_type": "code",
   "execution_count": 15,
   "metadata": {},
   "outputs": [],
   "source": [
    "def f(x: int) -> float:\n",
    "    \"\"\"La función a ser maximizada\"\"\"\n",
    "    return x * sin(10*pi*x) + 1"
   ]
  },
  {
   "cell_type": "markdown",
   "metadata": {},
   "source": [
    "Para trabajar con cadenas de longitud 22 binarias, preferiremos esta vez usar listas en lugar de numpy.\n",
    "Creamos una funcion que convierte de listas de 22 bits a su representación entera:"
   ]
  },
  {
   "cell_type": "code",
   "execution_count": 16,
   "metadata": {},
   "outputs": [],
   "source": [
    "def decimal_de(cadena: list) -> float:\n",
    "    \"\"\"Da la representación decimal del gen\"\"\"\n",
    "    num = 0\n",
    "    for i in range(len(cadena) - 1, -1, -1):\n",
    "        num += cadena[len(cadena) - 1 - i] * 2**i\n",
    "    num = -1 + (3 / (2**22 - 1)) * num\n",
    "    return num\n"
   ]
  },
  {
   "cell_type": "code",
   "execution_count": 17,
   "metadata": {},
   "outputs": [],
   "source": [
    "# Prueba de funcionamiento:\n",
    "import random\n",
    "import timeit\n",
    "cadena = [0,1,1,0,1,0,1,0,1,0,1,0,1,0,0,0,0,1,1,0,1,0]\n",
    "#generar 50000 cadenas de 22 bits\n",
    "\n",
    "# print(timeit.timeit(lambda: f(decimal_de(cadena)), number=10000000))"
   ]
  },
  {
   "cell_type": "markdown",
   "metadata": {},
   "source": [
    "## Población inicial\n",
    "Para crear una población escogemos que tenga 50 individuos, y para cada uno de ellos generamos una lista de 22 bits aleatorios."
   ]
  },
  {
   "cell_type": "code",
   "execution_count": 18,
   "metadata": {},
   "outputs": [],
   "source": [
    "INDIVIDUOS = 50"
   ]
  },
  {
   "cell_type": "code",
   "execution_count": 19,
   "metadata": {},
   "outputs": [],
   "source": [
    "def crear_poblacion(tamano: int) -> list:\n",
    "    \"\"\"Crea una población de tamaño individuos para el problema de la maximización de la función aptitud.\"\"\"\n",
    "    poblacion = []\n",
    "    for i in range(tamano):\n",
    "        cadena = [random.randint(0, 1) for _ in range(22)]\n",
    "        poblacion.append(cadena)\n",
    "    return poblacion"
   ]
  },
  {
   "cell_type": "code",
   "execution_count": 20,
   "metadata": {},
   "outputs": [],
   "source": [
    "poblacion = crear_poblacion(INDIVIDUOS)"
   ]
  },
  {
   "cell_type": "markdown",
   "metadata": {},
   "source": [
    "## Función de evaluación\n",
    "La aptitud será la función que queremos maximizar, pero hacemos una pequeña corrección para no trabajar con dos signos."
   ]
  },
  {
   "cell_type": "code",
   "execution_count": 21,
   "metadata": {},
   "outputs": [],
   "source": [
    "def aptitud_maximizar(individuo: list) -> float:\n",
    "    \"\"\"Aptitud de un individuo\"\"\"\n",
    "    funcion = f(decimal_de(individuo))\n",
    "    if funcion < 0:\n",
    "        return 0\n",
    "    else:\n",
    "        return funcion"
   ]
  },
  {
   "cell_type": "markdown",
   "metadata": {},
   "source": [
    "## Operadores genéticos"
   ]
  },
  {
   "cell_type": "markdown",
   "metadata": {},
   "source": [
    "### Selección\n",
    "Para seleccionar los padres usamos el método de la ruleta con pesos."
   ]
  },
  {
   "cell_type": "code",
   "execution_count": 22,
   "metadata": {},
   "outputs": [],
   "source": [
    "def seleccionar_ruleta(\n",
    "    poblacion: list, n: int, fun_aptitud: Callable = aptitud_maximizar\n",
    ") -> list:\n",
    "    \"\"\"Selecciona n individuos de la población usando el método de la ruleta.\n",
    "    :param poblacion: matriz de individuos\n",
    "    :param n: número de individuos a seleccionar\n",
    "    :param fun_aptitud: función para calcular la aptitud de un individuo\n",
    "    :return: matriz de individuos seleccionados\"\"\"\n",
    "\n",
    "    aptitudes = [fun_aptitud(individuo) for individuo in poblacion]\n",
    "    poblacion_seleccionada = []\n",
    "    aptitudes_acumuladas = [sum(aptitudes[: i + 1]) for i in range(len(aptitudes))]\n",
    "    aptitud_total = aptitudes_acumuladas[-1]\n",
    "\n",
    "    # Para cada progenitor a seleccionar\n",
    "    for _ in range(n):\n",
    "        # Seleccionamos un numero decimal aleatorio entre 0 y la suma total de aptitudes\n",
    "        valor = random.uniform(0, aptitud_total)\n",
    "\n",
    "        seleccionado = 0\n",
    "\n",
    "        while not aptitudes_acumuladas[seleccionado] >= valor:\n",
    "            seleccionado += 1\n",
    "        poblacion_seleccionada.append(poblacion[seleccionado])\n",
    "    return poblacion_seleccionada"
   ]
  },
  {
   "cell_type": "markdown",
   "metadata": {},
   "source": [
    "### Crossover"
   ]
  },
  {
   "cell_type": "code",
   "execution_count": 23,
   "metadata": {},
   "outputs": [],
   "source": [
    "def crossover(\n",
    "    progenitores: list,\n",
    "    probabilidad: float = 1,\n",
    ") -> list:\n",
    "    \"\"\"Produce 2 nuevos individuos a partir de crossover si la probabilidad lo permite. Si no se produce, se retornan los progenitores.\n",
    "    :param progenitores: matriz de progenitores\n",
    "    :return: matriz de individuos con los nuevos individuos\"\"\"\n",
    "\n",
    "    if random.uniform(0, 1) <= probabilidad:\n",
    "        # Me quedo con dos progenitores al azar\n",
    "        progenitores = random.sample(list(progenitores), 2)\n",
    "        # Elijo un punto de corte\n",
    "        punto_corte = random.randint(1, len(progenitores[0]) - 1)\n",
    "        # Creo a los hijos\n",
    "        hijo1 = []\n",
    "        hijo2 = []\n",
    "        hijo1 = progenitores[0][:punto_corte] + progenitores[1][punto_corte:]\n",
    "        hijo2 = progenitores[1][:punto_corte] + progenitores[0][punto_corte:]\n",
    "        # Los devuelvo como ndarray\n",
    "        return [hijo1, hijo2]\n",
    "    else:\n",
    "        return progenitores"
   ]
  },
  {
   "cell_type": "markdown",
   "metadata": {},
   "source": [
    "### Mutación"
   ]
  },
  {
   "cell_type": "code",
   "execution_count": 24,
   "metadata": {},
   "outputs": [],
   "source": [
    "def mutacion(individuo: list, probabilidad: float, max_genes_a_mutar: int = 1) -> None:\n",
    "    \"\"\"Realiza la mutación de un individuo con una probabilidad dada.\n",
    "    :param individuo: lista que contiene los genes del individuo\n",
    "    :param probabilidad: probabilidad de mutación\"\"\"\n",
    "    if random.uniform(0, 1) <= probabilidad:\n",
    "        num_genes_mutar = random.randint(0, max_genes_a_mutar)\n",
    "        indices_a_mutar = random.sample(range(len(individuo)), num_genes_mutar)\n",
    "        for i in indices_a_mutar:\n",
    "            individuo[i] = random.choice([0, 1])"
   ]
  },
  {
   "cell_type": "markdown",
   "metadata": {},
   "source": [
    "### Elitismo"
   ]
  },
  {
   "cell_type": "code",
   "execution_count": 25,
   "metadata": {},
   "outputs": [],
   "source": [
    "def seleccion_elitista(\n",
    "    poblacion: list, n: int, fun_aptitud: Callable = aptitud_maximizar\n",
    ") -> list:\n",
    "    \"\"\"Selecciona a los n individuos más aptos de la población.\n",
    "    :param poblacion: individuos de entre los que seleccionar\n",
    "    :param n: número de individuos a seleccionar\n",
    "    :param fun_aptitud: función para calcular la aptitud de un individuo\n",
    "    :return: individuos seleccionados\"\"\"\n",
    "    patata = sorted(poblacion, key=fun_aptitud, reverse=True)[:n]\n",
    "    return patata"
   ]
  },
  {
   "cell_type": "markdown",
   "metadata": {},
   "source": [
    "## Prueba de ejecución"
   ]
  },
  {
   "cell_type": "code",
   "execution_count": 26,
   "metadata": {},
   "outputs": [
    {
     "name": "stdout",
     "output_type": "stream",
     "text": [
      "Ejecución 0\n"
     ]
    },
    {
     "name": "stdout",
     "output_type": "stream",
     "text": [
      "####################\n",
      "Generación: 1000\n",
      "Mejor aptitud: 2.850271807923644\n",
      "Individuo: 1.8505937696918893\n",
      "Binario:  [1, 1, 1, 1, 0, 0, 1, 1, 0, 1, 0, 0, 0, 0, 0, 0, 0, 0, 1, 0, 1, 0]\n",
      "####################\n",
      "Ejecución 1\n",
      "####################\n",
      "Generación: 1000\n",
      "Mejor aptitud: 2.849762285041862\n",
      "Individuo: 1.8497991203782846\n",
      "Binario:  [1, 1, 1, 1, 0, 0, 1, 1, 0, 0, 1, 0, 1, 1, 1, 0, 1, 1, 0, 0, 1, 1]\n",
      "####################\n",
      "Ejecución 2\n",
      "####################\n",
      "Generación: 1000\n",
      "Mejor aptitud: 2.850273751383738\n",
      "Individuo: 1.850551569593327\n",
      "Binario:  [1, 1, 1, 1, 0, 0, 1, 1, 0, 0, 1, 1, 1, 1, 1, 1, 0, 0, 1, 1, 1, 1]\n",
      "####################\n",
      "Ejecución 3\n",
      "####################\n",
      "Generación: 1000\n",
      "Mejor aptitud: 2.842528715979496\n",
      "Individuo: 1.84763332548936\n",
      "Binario:  [1, 1, 1, 1, 0, 0, 1, 0, 1, 1, 1, 1, 1, 1, 1, 1, 0, 1, 1, 1, 1, 1]\n",
      "####################\n",
      "Ejecución 4\n",
      "####################\n",
      "Generación: 1000\n",
      "Mejor aptitud: 2.8426497540259517\n",
      "Individuo: 1.8476562136784107\n",
      "Binario:  [1, 1, 1, 1, 0, 0, 1, 0, 1, 1, 1, 1, 1, 1, 1, 1, 1, 1, 1, 1, 1, 1]\n",
      "####################\n",
      "Ejecución 5\n",
      "####################\n",
      "Generación: 1000\n",
      "Mejor aptitud: 1.4511205071961422\n",
      "Individuo: 0.4522091036341438\n",
      "Binario:  [0, 1, 1, 1, 1, 0, 1, 1, 1, 1, 1, 0, 1, 0, 1, 1, 1, 1, 1, 1, 1, 1]\n",
      "####################\n",
      "Ejecución 6\n",
      "####################\n",
      "Generación: 1000\n",
      "Mejor aptitud: 2.4487819943946825\n",
      "Individuo: 1.4492186186834854\n",
      "Binario:  [1, 1, 0, 1, 0, 0, 0, 0, 1, 1, 1, 1, 1, 1, 1, 1, 1, 1, 1, 1, 1, 1]\n",
      "####################\n",
      "Ejecución 7\n",
      "####################\n",
      "Generación: 1000\n",
      "Mejor aptitud: 1.640144454365155\n",
      "Individuo: 0.828124720603161\n",
      "Binario:  [1, 0, 0, 1, 1, 0, 1, 1, 1, 1, 1, 1, 1, 1, 1, 1, 1, 1, 1, 1, 1, 1]\n",
      "####################\n",
      "Ejecución 8\n",
      "####################\n",
      "Generación: 1000\n",
      "Mejor aptitud: 2.8502723663552754\n",
      "Individuo: 1.850586617132811\n",
      "Binario:  [1, 1, 1, 1, 0, 0, 1, 1, 0, 1, 0, 0, 0, 0, 0, 0, 0, 0, 0, 0, 0, 0]\n",
      "####################\n",
      "Ejecución 9\n",
      "####################\n",
      "Generación: 1000\n",
      "Mejor aptitud: 1.4511204889499432\n",
      "Individuo: 0.4522076731223281\n",
      "Binario:  [0, 1, 1, 1, 1, 0, 1, 1, 1, 1, 1, 0, 1, 0, 1, 1, 1, 1, 1, 1, 0, 1]\n",
      "####################\n",
      "Ejecución 10\n",
      "####################\n",
      "Generación: 1000\n",
      "Mejor aptitud: 2.779300028860712\n",
      "Individuo: 1.8593756817282872\n",
      "Binario:  [1, 1, 1, 1, 0, 1, 0, 0, 0, 0, 0, 0, 0, 0, 0, 0, 0, 0, 0, 0, 0, 0]\n",
      "####################\n",
      "Ejecución 11\n",
      "####################\n",
      "Generación: 1000\n",
      "Mejor aptitud: 2.8426497540259517\n",
      "Individuo: 1.8476562136784107\n",
      "Binario:  [1, 1, 1, 1, 0, 0, 1, 0, 1, 1, 1, 1, 1, 1, 1, 1, 1, 1, 1, 1, 1, 1]\n",
      "####################\n",
      "Ejecución 12\n",
      "####################\n",
      "Generación: 1000\n",
      "Mejor aptitud: 2.849845588976221\n",
      "Individuo: 1.849862778154082\n",
      "Binario:  [1, 1, 1, 1, 0, 0, 1, 1, 0, 0, 1, 1, 0, 0, 0, 0, 0, 0, 1, 1, 0, 0]\n",
      "####################\n",
      "Ejecución 13\n",
      "####################\n",
      "Generación: 1000\n",
      "Mejor aptitud: 1.2519022613728799\n",
      "Individuo: 0.25482851381981697\n",
      "Binario:  [0, 1, 1, 0, 1, 0, 1, 1, 0, 0, 0, 1, 0, 1, 0, 0, 0, 0, 1, 0, 0, 1]\n",
      "####################\n",
      "Ejecución 14\n",
      "####################\n",
      "Generación: 1000\n",
      "Mejor aptitud: 2.8426497540259517\n",
      "Individuo: 1.8476562136784107\n",
      "Binario:  [1, 1, 1, 1, 0, 0, 1, 0, 1, 1, 1, 1, 1, 1, 1, 1, 1, 1, 1, 1, 1, 1]\n",
      "####################\n",
      "Ejecución 15\n",
      "####################\n",
      "Generación: 1000\n",
      "Mejor aptitud: 2.8391850990431227\n",
      "Individuo: 1.8470596902512764\n",
      "Binario:  [1, 1, 1, 1, 0, 0, 1, 0, 1, 1, 1, 1, 0, 0, 1, 0, 1, 1, 1, 1, 0, 1]\n",
      "####################\n",
      "Ejecución 16\n",
      "####################\n",
      "Generación: 1000\n",
      "Mejor aptitud: 2.4503490711008387\n",
      "Individuo: 1.4506834627827319\n",
      "Binario:  [1, 1, 0, 1, 0, 0, 0, 1, 0, 0, 0, 1, 1, 1, 1, 1, 1, 1, 1, 1, 1, 1]\n",
      "####################\n",
      "Ejecución 17\n",
      "####################\n",
      "Generación: 1000\n",
      "Mejor aptitud: 2.779300028860712\n",
      "Individuo: 1.8593756817282872\n",
      "Binario:  [1, 1, 1, 1, 0, 1, 0, 0, 0, 0, 0, 0, 0, 0, 0, 0, 0, 0, 0, 0, 0, 0]\n",
      "####################\n",
      "Ejecución 18\n",
      "####################\n",
      "Generación: 1000\n",
      "Mejor aptitud: 2.8425893537846934\n",
      "Individuo: 1.8476447695838853\n",
      "Binario:  [1, 1, 1, 1, 0, 0, 1, 0, 1, 1, 1, 1, 1, 1, 1, 1, 1, 0, 1, 1, 1, 1]\n",
      "####################\n",
      "Ejecución 19\n",
      "####################\n",
      "Generación: 1000\n",
      "Mejor aptitud: 2.8426497540259517\n",
      "Individuo: 1.8476562136784107\n",
      "Binario:  [1, 1, 1, 1, 0, 0, 1, 0, 1, 1, 1, 1, 1, 1, 1, 1, 1, 1, 1, 1, 1, 1]\n",
      "####################\n",
      "Ejecución 20\n",
      "####################\n",
      "Generación: 1000\n",
      "Mejor aptitud: 2.8502723663552754\n",
      "Individuo: 1.850586617132811\n",
      "Binario:  [1, 1, 1, 1, 0, 0, 1, 1, 0, 1, 0, 0, 0, 0, 0, 0, 0, 0, 0, 0, 0, 0]\n",
      "####################\n",
      "Ejecución 21\n",
      "####################\n",
      "Generación: 1000\n",
      "Mejor aptitud: 2.850228632654355\n",
      "Individuo: 1.8507697226452167\n",
      "Binario:  [1, 1, 1, 1, 0, 0, 1, 1, 0, 1, 0, 0, 0, 1, 0, 0, 0, 0, 0, 0, 0, 0]\n",
      "####################\n",
      "Ejecución 22\n",
      "####################\n",
      "Generación: 1000\n",
      "Mejor aptitud: 2.779300028860712\n",
      "Individuo: 1.8593756817282872\n",
      "Binario:  [1, 1, 1, 1, 0, 1, 0, 0, 0, 0, 0, 0, 0, 0, 0, 0, 0, 0, 0, 0, 0, 0]\n",
      "####################\n",
      "Ejecución 23\n",
      "####################\n",
      "Generación: 1000\n",
      "Mejor aptitud: 2.659666842877839\n",
      "Individuo: 1.8359374608844425\n",
      "Binario:  [1, 1, 1, 1, 0, 0, 0, 1, 1, 1, 1, 1, 1, 1, 1, 1, 1, 1, 1, 1, 1, 1]\n",
      "####################\n",
      "Ejecución 24\n",
      "####################\n",
      "Generación: 1000\n",
      "Mejor aptitud: 2.8502735034106794\n",
      "Individuo: 1.850564444199668\n",
      "Binario:  [1, 1, 1, 1, 0, 0, 1, 1, 0, 0, 1, 1, 1, 1, 1, 1, 1, 0, 0, 0, 0, 1]\n",
      "####################\n",
      "Ejecución 25\n",
      "####################\n",
      "Generación: 1000\n",
      "Mejor aptitud: 2.849495968129564\n",
      "Individuo: 1.849624597936773\n",
      "Binario:  [1, 1, 1, 1, 0, 0, 1, 1, 0, 0, 1, 0, 1, 0, 1, 0, 1, 1, 1, 1, 1, 1]\n",
      "####################\n",
      "Ejecución 26\n"
     ]
    }
   ],
   "source": [
    "INDIVIDUOS = 50\n",
    "PROB_CROSSOVER = 0.25\n",
    "PROB_MUTACION = 0.01\n",
    "GENERACIONES = 1000\n",
    "NUM_EJECUCIONES = 100\n",
    "\n",
    "\n",
    "def ejecutar(INDIVIDUOS, PROB_CROSSOVER, PROB_MUTACION, GENERACIONES, poblacion=crear_poblacion(INDIVIDUOS)):\n",
    "    mejores_aptitudes = []\n",
    "    aptitudes_medias = []\n",
    "\n",
    "    aptitudes_medias.append(\n",
    "        sum([aptitud_maximizar(individuo) for individuo in poblacion]) / INDIVIDUOS\n",
    "    )\n",
    "    mejores_aptitudes.append(\n",
    "        max([aptitud_maximizar(individuo) for individuo in poblacion])\n",
    "    )\n",
    "\n",
    "    for _ in range(GENERACIONES):\n",
    "        aptitudes_medias.append(\n",
    "            sum([aptitud_maximizar(individuo) for individuo in poblacion]) / INDIVIDUOS\n",
    "        )\n",
    "        mejores_aptitudes.append(\n",
    "            max([aptitud_maximizar(individuo) for individuo in poblacion])\n",
    "        )\n",
    "        nueva_poblacion = []\n",
    "        while len(nueva_poblacion) < INDIVIDUOS:\n",
    "            seleccionados = seleccionar_ruleta(poblacion, 2)\n",
    "            hijos = crossover(seleccionados, PROB_CROSSOVER)\n",
    "            for hijo in hijos:\n",
    "                mutacion(hijo, PROB_MUTACION)\n",
    "                nueva_poblacion.append(hijo)\n",
    "            for item in nueva_poblacion:\n",
    "                poblacion.append(item)\n",
    "        poblacion = seleccion_elitista(poblacion, INDIVIDUOS)\n",
    "    print(\"####################\")\n",
    "    print(f\"Generación: {GENERACIONES}\")\n",
    "    print(f\"Mejor aptitud: {mejores_aptitudes[-1]}\")\n",
    "    print(\n",
    "        f\"Individuo: {decimal_de(sorted(poblacion, key=aptitud_maximizar, reverse=True)[0])}\"\n",
    "    )\n",
    "    print(\"Binario: \", sorted(poblacion, key=aptitud_maximizar, reverse=True)[0])\n",
    "    print(\"####################\")\n",
    "    \n",
    "    return (\n",
    "        max(mejores_aptitudes),\n",
    "        decimal_de(sorted(poblacion, key=aptitud_maximizar, reverse=True)[0]),\n",
    "        sorted(poblacion, key=aptitud_maximizar, reverse=True)[0],\n",
    "    )\n",
    "\n",
    "\n",
    "mejores_individuos = []\n",
    "for i in range(NUM_EJECUCIONES):\n",
    "    print(f\"Ejecución {i}\")\n",
    "    mejores_individuos.append(ejecutar(INDIVIDUOS, PROB_CROSSOVER, PROB_MUTACION, GENERACIONES))\n",
    "    \n",
    "#Representamos los resultados con matplotlib\n",
    "plt.plot([i[0] for i in mejores_individuos])\n",
    "plt.xlabel(\"Ejecuciones\")\n",
    "plt.ylabel(\"Mejor aptitud\")\n",
    "plt.show()"
   ]
  }
 ],
 "metadata": {
  "kernelspec": {
   "display_name": "Python 3",
   "language": "python",
   "name": "python3"
  },
  "language_info": {
   "codemirror_mode": {
    "name": "ipython",
    "version": 3
   },
   "file_extension": ".py",
   "mimetype": "text/x-python",
   "name": "python",
   "nbconvert_exporter": "python",
   "pygments_lexer": "ipython3",
   "version": "3.11.8"
  }
 },
 "nbformat": 4,
 "nbformat_minor": 2
}
