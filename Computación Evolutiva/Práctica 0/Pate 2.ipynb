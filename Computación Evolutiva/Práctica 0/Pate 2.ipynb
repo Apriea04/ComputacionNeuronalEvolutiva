{
 "cells": [
  {
   "cell_type": "markdown",
   "metadata": {},
   "source": [
    "# Práctica 1. Parte 2. _Apendicitis_"
   ]
  },
  {
   "cell_type": "code",
   "execution_count": 9,
   "metadata": {},
   "outputs": [],
   "source": [
    "import pandas as pd\n",
    "import numpy as np\n",
    "import matplotlib.pyplot as plt\n",
    "import math"
   ]
  },
  {
   "cell_type": "markdown",
   "metadata": {},
   "source": [
    "## 1. Enunciado\n",
    "El objetivo de esta práctica es entrenar una neurona artiﬁcial para que sea capaz de detectar si un paciente puede o menos sufrir de apendicitis.\n",
    "\n",
    "En primer lugar hay que descargar los archivos appendicitis.dat y muestra\\_pacientes.dat de la base de datos keel Dataset ([enlace](https://sci2s.ugr.es/keel/dataset.php?cod=183))"
   ]
  },
  {
   "cell_type": "code",
   "execution_count": 7,
   "metadata": {},
   "outputs": [],
   "source": [
    "# Carga de los datos del dataset de entrenamiento:\n",
    "data = pd.read_csv('appendicitis/data.csv')"
   ]
  },
  {
   "cell_type": "code",
   "execution_count": 8,
   "metadata": {},
   "outputs": [],
   "source": [
    "# Dividimos en porcentaje de entrenamiento y prueba:\n",
    "train_percent = 0.8\n",
    "test_percent = 1 - train_percent\n",
    "\n",
    "train_data = data.sample(frac=train_percent)\n",
    "test_data = data.copy().drop(train_data.index)"
   ]
  },
  {
   "cell_type": "markdown",
   "metadata": {},
   "source": [
    "Una vez la neurona pueda leer el archivo se pide:"
   ]
  },
  {
   "cell_type": "markdown",
   "metadata": {},
   "source": [
    "1\\. Añadir como opción una función de salida que proceda de f (p) = sin(p) en [−1, 1] con imagen en el intervalo apropiado."
   ]
  },
  {
   "cell_type": "code",
   "execution_count": 10,
   "metadata": {},
   "outputs": [],
   "source": [
    "# Función 1\n",
    "# TODO: normalizar los valores de entrada y salida para que en el intervalo [-1,1] de x, la imagen esté entre 0 y 1, es decir (f(-1)=0) y (f(1)=1)\n",
    "def sin(x):\n",
    "    \"\"\"Calcula el seno de un número x, con imagen entre 0 y 1.\n",
    "    Precondiciones: x ∈ [-1,1]\"\"\"\n",
    "    # Función seno en intervalo [-1,1]\n",
    "    return math.sin(x)/2 + 0.5\n"
   ]
  },
  {
   "cell_type": "markdown",
   "metadata": {},
   "source": [
    "2\\. Añadir como opción una función de salida que proceda de f(_p_) = 1/(1+ _e_<sup>−p</sup>) en (0, 1), con imagen en\n",
    "el intervalo apropiado"
   ]
  },
  {
   "cell_type": "code",
   "execution_count": null,
   "metadata": {},
   "outputs": [],
   "source": [
    "# Función 2\n",
    "def fun2(x):\n",
    "    \"\"\"Calcula el valor de la función f(x) = 1/(1 + e^(-x)), con \n",
    "    imagen entre 0 y 1.\n",
    "    Precondiciones: x ∈ (0, 1)\"\"\"\n",
    "    return 1/(1 + math.exp(-x))"
   ]
  },
  {
   "cell_type": "markdown",
   "metadata": {},
   "source": [
    "3\\. Añadir como opción una función de salida que proceda de f (p) = ex p(−p<sup>2</sup>) en (0, 1] con imagen en el\n",
    "intervalo apropiado"
   ]
  }
 ],
 "metadata": {
  "kernelspec": {
   "display_name": ".venv",
   "language": "python",
   "name": "python3"
  },
  "language_info": {
   "codemirror_mode": {
    "name": "ipython",
    "version": 3
   },
   "file_extension": ".py",
   "mimetype": "text/x-python",
   "name": "python",
   "nbconvert_exporter": "python",
   "pygments_lexer": "ipython3",
   "version": "3.11.9"
  }
 },
 "nbformat": 4,
 "nbformat_minor": 2
}
